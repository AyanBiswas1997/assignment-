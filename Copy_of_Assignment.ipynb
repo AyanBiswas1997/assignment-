{
  "nbformat": 4,
  "nbformat_minor": 0,
  "metadata": {
    "colab": {
      "provenance": [],
      "gpuType": "T4"
    },
    "kernelspec": {
      "name": "python3",
      "display_name": "Python 3"
    },
    "language_info": {
      "name": "python"
    },
    "accelerator": "GPU"
  },
  "cells": [
    {
      "cell_type": "code",
      "execution_count": null,
      "metadata": {
        "id": "jteBdqISeypd"
      },
      "outputs": [],
      "source": []
    },
    {
      "cell_type": "markdown",
      "source": [
        "1. In the below elements which of them are values or an expression? eg:- values can be\n",
        "integer or string and expressions will be mathematical operators. **bold text**\n",
        "* is mul operator.\n",
        "'hello' is a string.\n",
        "-87.8 is a number(type integer)\n",
        "- is a sub operator\n",
        "/ is a divide\n",
        "+ sum operator\n",
        "6 it is a integer\n",
        "2. **What is the difference between string and variable?**\n",
        "variable is a path where we store the data but string is data what can only store in variables.\n",
        "**3.Describe three different data types.**\n",
        "data type in python-int,float,list,tuple,dictionary,str,complex,range etc.\n",
        "**4. What is an expression made up of? What do all expressions do?**\n",
        "An expression is a construct made up of variables, operators, and method invocations, which are constructed according to the syntax of the language, that evaluates to a single value.\n",
        "5. This assignment statements, like spam = 10. What is the difference between an\n",
        "expression and a statement?\n",
        "Expressions can be assigned or used as operands, while statements can only be declared.\n",
        "6. After running the following code, what does the variable bacon contain?\n",
        "bacon = 22\n",
        "bacon + 1\n",
        "output will 22 because here we have to use += operator to creat a output 23.\n",
        "7.What should the values of the following two terms be?\n"
      ],
      "metadata": {
        "id": "N8-t5EpHfGWl"
      }
    },
    {
      "cell_type": "code",
      "source": [
        "'spam'+'spamspam'\n",
        "'spam'*3"
      ],
      "metadata": {
        "colab": {
          "base_uri": "https://localhost:8080/",
          "height": 35
        },
        "id": "-ZvXJ_U1ic8i",
        "outputId": "56829998-f834-4cc7-f02a-9fb4fe1188df"
      },
      "execution_count": 4,
      "outputs": [
        {
          "output_type": "execute_result",
          "data": {
            "text/plain": [
              "'spamspamspam'"
            ],
            "application/vnd.google.colaboratory.intrinsic+json": {
              "type": "string"
            }
          },
          "metadata": {},
          "execution_count": 4
        }
      ]
    },
    {
      "cell_type": "code",
      "source": [
        "\n"
      ],
      "metadata": {
        "id": "LEpHfT9oiqrK"
      },
      "execution_count": null,
      "outputs": []
    },
    {
      "cell_type": "markdown",
      "source": [
        "|8. Why is eggs a valid variable name while 100 is invalid?\n",
        "because we cant start a variable name with a digit.\n",
        "9. What three functions can be used to get the integer, floating-point number, or string\n",
        "version of a value?\n",
        "int(),float(),str()\n",
        "10. Why does this expression cause an error? How can you fix it?\n"
      ],
      "metadata": {
        "id": "CrdAhDfsjQBQ"
      }
    },
    {
      "cell_type": "code",
      "source": [
        "'i have eaten' + \" 99 \" +  ' burritos'"
      ],
      "metadata": {
        "colab": {
          "base_uri": "https://localhost:8080/",
          "height": 35
        },
        "id": "O9H5_O0JjuMz",
        "outputId": "9608b6b3-f96c-4469-d398-8b02e7b40fb9"
      },
      "execution_count": 11,
      "outputs": [
        {
          "output_type": "execute_result",
          "data": {
            "text/plain": [
              "'i have eaten 99  burritos'"
            ],
            "application/vnd.google.colaboratory.intrinsic+json": {
              "type": "string"
            }
          },
          "metadata": {},
          "execution_count": 11
        }
      ]
    },
    {
      "cell_type": "markdown",
      "source": [],
      "metadata": {
        "id": "gkTUDGNVi5s4"
      }
    }
  ]
}